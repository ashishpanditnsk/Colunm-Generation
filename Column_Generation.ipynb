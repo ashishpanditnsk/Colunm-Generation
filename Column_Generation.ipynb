{
  "nbformat": 4,
  "nbformat_minor": 0,
  "metadata": {
    "colab": {
      "name": "Column Generation.ipynb",
      "provenance": []
    },
    "kernelspec": {
      "name": "python3",
      "display_name": "Python 3"
    },
    "language_info": {
      "name": "python"
    }
  },
  "cells": [
    {
      "cell_type": "code",
      "metadata": {
        "colab": {
          "base_uri": "https://localhost:8080/"
        },
        "id": "bdOQtvBMtKg9",
        "outputId": "f8568032-7333-44f5-b27c-f988d5b23c84"
      },
      "source": [
        "!pip install -q pyomo\n",
        "!apt-get install -y -qq coinor-cbc\n",
        "from pyomo.environ import *\n",
        "import numpy as np"
      ],
      "execution_count": 1,
      "outputs": [
        {
          "output_type": "stream",
          "text": [
            "\u001b[K     |████████████████████████████████| 9.1 MB 18.3 MB/s \n",
            "\u001b[K     |████████████████████████████████| 49 kB 5.6 MB/s \n",
            "\u001b[?25hSelecting previously unselected package coinor-libcoinutils3v5.\n",
            "(Reading database ... 148486 files and directories currently installed.)\n",
            "Preparing to unpack .../0-coinor-libcoinutils3v5_2.10.14+repack1-1_amd64.deb ...\n",
            "Unpacking coinor-libcoinutils3v5 (2.10.14+repack1-1) ...\n",
            "Selecting previously unselected package coinor-libosi1v5.\n",
            "Preparing to unpack .../1-coinor-libosi1v5_0.107.9+repack1-1_amd64.deb ...\n",
            "Unpacking coinor-libosi1v5 (0.107.9+repack1-1) ...\n",
            "Selecting previously unselected package coinor-libclp1.\n",
            "Preparing to unpack .../2-coinor-libclp1_1.16.11+repack1-1_amd64.deb ...\n",
            "Unpacking coinor-libclp1 (1.16.11+repack1-1) ...\n",
            "Selecting previously unselected package coinor-libcgl1.\n",
            "Preparing to unpack .../3-coinor-libcgl1_0.59.10+repack1-1_amd64.deb ...\n",
            "Unpacking coinor-libcgl1 (0.59.10+repack1-1) ...\n",
            "Selecting previously unselected package coinor-libcbc3.\n",
            "Preparing to unpack .../4-coinor-libcbc3_2.9.9+repack1-1_amd64.deb ...\n",
            "Unpacking coinor-libcbc3 (2.9.9+repack1-1) ...\n",
            "Selecting previously unselected package coinor-cbc.\n",
            "Preparing to unpack .../5-coinor-cbc_2.9.9+repack1-1_amd64.deb ...\n",
            "Unpacking coinor-cbc (2.9.9+repack1-1) ...\n",
            "Setting up coinor-libcoinutils3v5 (2.10.14+repack1-1) ...\n",
            "Setting up coinor-libosi1v5 (0.107.9+repack1-1) ...\n",
            "Setting up coinor-libclp1 (1.16.11+repack1-1) ...\n",
            "Setting up coinor-libcgl1 (0.59.10+repack1-1) ...\n",
            "Setting up coinor-libcbc3 (2.9.9+repack1-1) ...\n",
            "Setting up coinor-cbc (2.9.9+repack1-1) ...\n",
            "Processing triggers for man-db (2.8.3-2ubuntu0.1) ...\n",
            "Processing triggers for libc-bin (2.27-3ubuntu1.2) ...\n",
            "/sbin/ldconfig.real: /usr/local/lib/python3.7/dist-packages/ideep4py/lib/libmkldnn.so.0 is not a symbolic link\n",
            "\n"
          ],
          "name": "stdout"
        }
      ]
    },
    {
      "cell_type": "code",
      "metadata": {
        "id": "ai-FGndEuDDK"
      },
      "source": [
        "model=ConcreteModel()\n",
        "model.dual = Suffix(direction=Suffix.IMPORT_EXPORT)\n",
        "d={4:80,6:50,7:100}\n",
        "a=np.array(([[2,0,0],[0,2,0],[0,0,2]]))\n",
        "a.shape\n",
        "pattern_list=range(a.shape[1])\n",
        "model.lamb=Var(pattern_list,domain=NonNegativeIntegers)\n",
        "model.pattern_count=Objective(expr=sum(model.lamb[i] for i in pattern_list))\n",
        "model.c=ConstraintList()\n",
        "for j in d:\n",
        "  k=demand_index[j]\n",
        "  #print()\n",
        "  model.c.add(sum(model.lamb[k]*a[pattern,k] for pattern in pattern_list)>=d[j])\n",
        "\n"
      ],
      "execution_count": 76,
      "outputs": []
    },
    {
      "cell_type": "code",
      "metadata": {
        "colab": {
          "base_uri": "https://localhost:8080/",
          "height": 262
        },
        "id": "ZT3xrIxY36gJ",
        "outputId": "cffddf79-2036-446c-c6be-afe93d74650b"
      },
      "source": [
        "demand_index={4:0,6:1,7:2}\n"
      ],
      "execution_count": 77,
      "outputs": [
        {
          "output_type": "stream",
          "text": [
            "4 0\n",
            "6 1\n",
            "7 2\n"
          ],
          "name": "stdout"
        },
        {
          "output_type": "error",
          "ename": "AttributeError",
          "evalue": "ignored",
          "traceback": [
            "\u001b[0;31m---------------------------------------------------------------------------\u001b[0m",
            "\u001b[0;31mAttributeError\u001b[0m                            Traceback (most recent call last)",
            "\u001b[0;32m<ipython-input-77-2e06c7723c7a>\u001b[0m in \u001b[0;36m<module>\u001b[0;34m()\u001b[0m\n\u001b[1;32m      4\u001b[0m   \u001b[0mprint\u001b[0m\u001b[0;34m(\u001b[0m\u001b[0mj\u001b[0m\u001b[0;34m,\u001b[0m\u001b[0mk\u001b[0m\u001b[0;34m)\u001b[0m\u001b[0;34m\u001b[0m\u001b[0;34m\u001b[0m\u001b[0m\n\u001b[1;32m      5\u001b[0m \u001b[0;32mfor\u001b[0m \u001b[0mi\u001b[0m \u001b[0;32min\u001b[0m \u001b[0;34m[\u001b[0m\u001b[0;36m0\u001b[0m\u001b[0;34m,\u001b[0m\u001b[0;36m1\u001b[0m\u001b[0;34m,\u001b[0m\u001b[0;36m2\u001b[0m\u001b[0;34m]\u001b[0m\u001b[0;34m:\u001b[0m\u001b[0;34m\u001b[0m\u001b[0;34m\u001b[0m\u001b[0m\n\u001b[0;32m----> 6\u001b[0;31m   \u001b[0mprint\u001b[0m\u001b[0;34m(\u001b[0m\u001b[0md\u001b[0m\u001b[0;34m.\u001b[0m\u001b[0mkey\u001b[0m\u001b[0;34m(\u001b[0m\u001b[0mi\u001b[0m\u001b[0;34m)\u001b[0m\u001b[0;34m)\u001b[0m\u001b[0;34m\u001b[0m\u001b[0;34m\u001b[0m\u001b[0m\n\u001b[0m",
            "\u001b[0;31mAttributeError\u001b[0m: 'dict' object has no attribute 'key'"
          ]
        }
      ]
    },
    {
      "cell_type": "code",
      "metadata": {
        "colab": {
          "base_uri": "https://localhost:8080/"
        },
        "id": "_CtqyxXVuBVX",
        "outputId": "7883ed9b-5b63-4d2e-b3ef-e06de576133a"
      },
      "source": [
        "SolverFactory('cbc').solve(model).write()"
      ],
      "execution_count": 78,
      "outputs": [
        {
          "output_type": "stream",
          "text": [
            "# ==========================================================\n",
            "# = Solver Results                                         =\n",
            "# ==========================================================\n",
            "# ----------------------------------------------------------\n",
            "#   Problem Information\n",
            "# ----------------------------------------------------------\n",
            "Problem: \n",
            "- Name: unknown\n",
            "  Lower bound: 115.0\n",
            "  Upper bound: 115.0\n",
            "  Number of objectives: 1\n",
            "  Number of constraints: 0\n",
            "  Number of variables: 0\n",
            "  Number of binary variables: 0\n",
            "  Number of integer variables: 3\n",
            "  Number of nonzeros: 0\n",
            "  Sense: minimize\n",
            "# ----------------------------------------------------------\n",
            "#   Solver Information\n",
            "# ----------------------------------------------------------\n",
            "Solver: \n",
            "- Status: ok\n",
            "  User time: -1.0\n",
            "  System time: 0.0\n",
            "  Wallclock time: 0.0\n",
            "  Termination condition: optimal\n",
            "  Termination message: Model was solved to optimality (subject to tolerances), and an optimal solution is available.\n",
            "  Statistics: \n",
            "    Branch and bound: \n",
            "      Number of bounded subproblems: 0\n",
            "      Number of created subproblems: 0\n",
            "    Black box: \n",
            "      Number of iterations: 0\n",
            "  Error rc: 0\n",
            "  Time: 0.01785588264465332\n",
            "# ----------------------------------------------------------\n",
            "#   Solution Information\n",
            "# ----------------------------------------------------------\n",
            "Solution: \n",
            "- number of solutions: 0\n",
            "  number of solutions displayed: 0\n"
          ],
          "name": "stdout"
        }
      ]
    },
    {
      "cell_type": "code",
      "metadata": {
        "colab": {
          "base_uri": "https://localhost:8080/"
        },
        "id": "vsV5Idr67_2b",
        "outputId": "9dfa6708-8b9b-4c1e-fc6b-f22eeba2f62f"
      },
      "source": [
        "# display all duals\n",
        "dual_vector=[]\n",
        "print (\"Duals\")\n",
        "for c in model.component_objects(Constraint, active=True):\n",
        "    print (\"   Constraint\",c)\n",
        "    for index in c:\n",
        "        print (\"      \", index, model.dual[c[index]])\n",
        "        dual_vector.append(model.dual[c[index]])\n",
        "print(dual_vector)"
      ],
      "execution_count": 79,
      "outputs": [
        {
          "output_type": "stream",
          "text": [
            "Duals\n",
            "   Constraint c\n",
            "       1 0.0\n",
            "       2 0.0\n",
            "       3 0.0\n",
            "[0.0, 0.0, 0.0]\n"
          ],
          "name": "stdout"
        }
      ]
    },
    {
      "cell_type": "code",
      "metadata": {
        "colab": {
          "base_uri": "https://localhost:8080/"
        },
        "id": "CbTVvrOmuzNN",
        "outputId": "499e7cfc-42f6-4f01-b4ba-e9710f18df46"
      },
      "source": [
        "model.dual.display()"
      ],
      "execution_count": 40,
      "outputs": [
        {
          "output_type": "stream",
          "text": [
            "dual : Direction=Suffix.IMPORT_EXPORT, Datatype=Suffix.FLOAT\n",
            "    Key  : Value\n",
            "    c[1] :   0.0\n",
            "    c[2] :   0.0\n",
            "    c[3] :   0.0\n"
          ],
          "name": "stdout"
        }
      ]
    },
    {
      "cell_type": "code",
      "metadata": {
        "colab": {
          "base_uri": "https://localhost:8080/"
        },
        "id": "BgwlLF2D6aue",
        "outputId": "94b4e7b8-7d5e-466b-b0ae-28feec2047da"
      },
      "source": [
        "pricing=ConcreteModel()\n",
        "#model.dual = Suffix(direction=Suffix.IMPORT_EXPORT)\n",
        "#d={4:80,6:50,7:100}\n",
        "#a=np.array(([[3,0,0],[0,2,0],[0,0,2]]))\n",
        "#a.shape\n",
        "#pattern_list=range(a.shape[1])\n",
        "#model.lamb=Var(pattern_list,domain=NonNegativeIntegers)\n",
        "lenght=[4,6,7]\n",
        "m=len(dual_vector)\n",
        "pricing.x=Var(range(m),domain=NonNegativeIntegers)\n",
        "pricing.least_red_cost=Objective(expr=(1-sum(dual_vector[i]*pricing.x[i] for i in [0,1,2])))\n",
        "pricing.c=ConstraintList()\n",
        "pricing.c.add(sum(lenght[i]*pricing.x[i] for i in range(m))<=15)\n",
        "SolverFactory('cbc').solve(pricing).write()"
      ],
      "execution_count": 80,
      "outputs": [
        {
          "output_type": "stream",
          "text": [
            "WARNING: Constant objective detected, replacing with a placeholder to prevent\n",
            "    solver failure.\n",
            "# ==========================================================\n",
            "# = Solver Results                                         =\n",
            "# ==========================================================\n",
            "# ----------------------------------------------------------\n",
            "#   Problem Information\n",
            "# ----------------------------------------------------------\n",
            "Problem: \n",
            "- Name: unknown\n",
            "  Lower bound: 1.0\n",
            "  Upper bound: 1.0\n",
            "  Number of objectives: 1\n",
            "  Number of constraints: 0\n",
            "  Number of variables: 0\n",
            "  Number of binary variables: 0\n",
            "  Number of integer variables: 3\n",
            "  Number of nonzeros: 0\n",
            "  Sense: minimize\n",
            "# ----------------------------------------------------------\n",
            "#   Solver Information\n",
            "# ----------------------------------------------------------\n",
            "Solver: \n",
            "- Status: ok\n",
            "  User time: -1.0\n",
            "  System time: 0.0\n",
            "  Wallclock time: 0.0\n",
            "  Termination condition: optimal\n",
            "  Termination message: Model was solved to optimality (subject to tolerances), and an optimal solution is available.\n",
            "  Statistics: \n",
            "    Branch and bound: \n",
            "      Number of bounded subproblems: 0\n",
            "      Number of created subproblems: 0\n",
            "    Black box: \n",
            "      Number of iterations: 0\n",
            "  Error rc: 0\n",
            "  Time: 0.017206907272338867\n",
            "# ----------------------------------------------------------\n",
            "#   Solution Information\n",
            "# ----------------------------------------------------------\n",
            "Solution: \n",
            "- number of solutions: 0\n",
            "  number of solutions displayed: 0\n"
          ],
          "name": "stdout"
        }
      ]
    },
    {
      "cell_type": "code",
      "metadata": {
        "colab": {
          "base_uri": "https://localhost:8080/"
        },
        "id": "lB5DRvSVCd3X",
        "outputId": "1555a3e7-1d65-4f62-97d4-271e857d8665"
      },
      "source": [
        "if(pricing.least_red_cost.expr<0):\n",
        "  print(\"Improvements Exists\")\n",
        "  print(\"Add x to a\")\n",
        "  print(\"x is\",pricing.x.value)\n",
        "else:\n",
        "  print(\"No Improvements\")"
      ],
      "execution_count": 84,
      "outputs": [
        {
          "output_type": "stream",
          "text": [
            "No Improvements\n"
          ],
          "name": "stdout"
        }
      ]
    }
  ]
}